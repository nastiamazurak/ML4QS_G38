{
 "cells": [
  {
   "cell_type": "code",
   "execution_count": 33,
   "id": "31439120",
   "metadata": {},
   "outputs": [],
   "source": [
    "import xml.etree.ElementTree as ET\n",
    "import pandas as pd\n",
    "import gpxpy\n",
    "import os"
   ]
  },
  {
   "cell_type": "markdown",
   "id": "672df556",
   "metadata": {},
   "source": [
    "# Extracting Sensory data\n",
    "\n",
    "- We are using data from Garmin watch. \n",
    "- For this assignment running activities were observed, specifically tempo and recovery runs. \n",
    "- 4 runs were extracted: 12km tempo, 10km tempo, 10km recovery, 8km recovery. In total, ~4h of data. Each run activity is labeled according to its type and distance.\n",
    "- **Features:** \n",
    "    - Time\n",
    "    - Distance\n",
    "    - Altitude\n",
    "    - Cadence\n",
    "    - HeartRate\n",
    "    - Speed\n",
    "- **Engineered features (TBD):**\n",
    "    - Pace (Time/Distance)\n",
    "    - Elevation Gain (to be calculated)\n",
    "    - Cadence per minute (In current dataset cadence metric is really akward and hardly understandable. Usually, cadence measures frequency of steps (for both feet) per minute. Moreover, in this dataset cadence corresponds to frequency of steps only for one foot, so it should be multiplied by 2)"
   ]
  },
  {
   "cell_type": "code",
   "execution_count": 34,
   "id": "ced8b461",
   "metadata": {},
   "outputs": [],
   "source": [
    "def parse_tcx(tcx_file):\n",
    "    tree = ET.parse(tcx_file)\n",
    "    root = tree.getroot()\n",
    "\n",
    "    data = []\n",
    "    \n",
    "    for activity in root.find('{http://www.garmin.com/xmlschemas/TrainingCenterDatabase/v2}Activities'):\n",
    "        for lap in activity.findall('{http://www.garmin.com/xmlschemas/TrainingCenterDatabase/v2}Lap'):\n",
    "            for track in lap.findall('{http://www.garmin.com/xmlschemas/TrainingCenterDatabase/v2}Track'):\n",
    "                for trackpoint in track.findall('{http://www.garmin.com/xmlschemas/TrainingCenterDatabase/v2}Trackpoint'):\n",
    "                    # Extract time, distance, and heart rate data\n",
    "                    time_element = trackpoint.find('{http://www.garmin.com/xmlschemas/TrainingCenterDatabase/v2}Time')\n",
    "                    distance_element = trackpoint.find('{http://www.garmin.com/xmlschemas/TrainingCenterDatabase/v2}DistanceMeters')\n",
    "                    heart_rate_element = trackpoint.find('{http://www.garmin.com/xmlschemas/TrainingCenterDatabase/v2}HeartRateBpm/{http://www.garmin.com/xmlschemas/TrainingCenterDatabase/v2}Value')\n",
    "                    speed_element = trackpoint.find('{http://www.garmin.com/xmlschemas/TrainingCenterDatabase/v2}Extensions/{http://www.garmin.com/xmlschemas/ActivityExtension/v2}TPX/{http://www.garmin.com/xmlschemas/ActivityExtension/v2}Speed')\n",
    "                    run_cadence_element = trackpoint.find('{http://www.garmin.com/xmlschemas/TrainingCenterDatabase/v2}Extensions/{http://www.garmin.com/xmlschemas/ActivityExtension/v2}TPX/{http://www.garmin.com/xmlschemas/ActivityExtension/v2}RunCadence')\n",
    "                    altitude_element = trackpoint.find('{http://www.garmin.com/xmlschemas/TrainingCenterDatabase/v2}AltitudeMeters')\n",
    "                    \n",
    "                    if time_element is not None and distance_element is not None and heart_rate_element is not None and run_cadence_element is not None and speed_element is not None:\n",
    "                        data.append({\n",
    "                            'Time': time_element.text,\n",
    "                            'Distance': float(distance_element.text),\n",
    "                            'Altitude': float(altitude_element.text),\n",
    "                            'HeartRate': int(heart_rate_element.text),\n",
    "                            'Speed': float(speed_element.text),\n",
    "                            'Cadence': int(run_cadence_element.text)\n",
    "                        })\n",
    "\n",
    "    return data\n",
    "\n",
    "def heart_rate_zone(heart_rate):\n",
    "    # Define your own heart rate zones here\n",
    "    if heart_rate < 120:\n",
    "        return 'Zone 1'\n",
    "    elif heart_rate < 140:\n",
    "        return 'Zone 2'\n",
    "    elif heart_rate < 160:\n",
    "        return 'Zone 3'\n",
    "    elif heart_rate < 180:\n",
    "        return 'Zone 4'\n",
    "    else:\n",
    "        return 'Zone 5'\n",
    "\n",
    "\n",
    "# Calculate pace (time per km) - note this is a simple calculation and may not be accurate\n",
    "def calculate_pace(df):\n",
    "    df['Time'] = pd.to_datetime(df['Time'])\n",
    "    timeDiff = df['Time'].diff()\n",
    "    distanceDiff = df['Distance'].diff()\n",
    "    df['Pace'] = timeDiff.dt.total_seconds() / distanceDiff\n",
    "    \n",
    "\n",
    "#Activity labels. Currently not used\n",
    "labels = ['recovery','tempo']"
   ]
  },
  {
   "cell_type": "code",
   "execution_count": 37,
   "id": "8b8e1512",
   "metadata": {},
   "outputs": [],
   "source": [
    "tcx_files = ['10km_tempo.tcx', '12km_tempo.tcx', '8km_recovery.tcx', '10km_recovery.tcx']\n",
    "\n",
    "dataframes = []\n",
    "\n",
    "for file in tcx_files:\n",
    "    # Parse the TCX file to a DataFrame\n",
    "    data = parse_tcx('data/'+ file)\n",
    "    df = pd.DataFrame(data)\n",
    "    calculate_pace(df)\n",
    "    df['HeartRateZone'] = df['HeartRate'].apply(heart_rate_zone)\n",
    "    df['Run'] = os.path.splitext('data/'+ file)[0]  # extracts \"10km_tempo\", \"12km_tempo\", etc. from file names\n",
    "\n",
    "    # Append the DataFrame to the list\n",
    "    dataframes.append(df)\n",
    "# Concatenate all dataframes\n",
    "all_runs_df = pd.concat(dataframes, ignore_index=True)\n",
    "all_runs_df.to_csv('running_data.csv')"
   ]
  },
  {
   "cell_type": "code",
   "execution_count": null,
   "id": "61bf232b",
   "metadata": {},
   "outputs": [],
   "source": [
    "#hello! hellooo!"
   ]
  }
 ],
 "metadata": {
  "kernelspec": {
   "display_name": "Python 3 (ipykernel)",
   "language": "python",
   "name": "python3"
  },
  "language_info": {
   "codemirror_mode": {
    "name": "ipython",
    "version": 3
   },
   "file_extension": ".py",
   "mimetype": "text/x-python",
   "name": "python",
   "nbconvert_exporter": "python",
   "pygments_lexer": "ipython3",
   "version": "3.10.9"
  }
 },
 "nbformat": 4,
 "nbformat_minor": 5
}
